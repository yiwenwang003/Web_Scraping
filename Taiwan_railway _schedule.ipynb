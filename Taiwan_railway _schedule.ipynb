{
 "cells": [
  {
   "cell_type": "code",
   "execution_count": 5,
   "metadata": {},
   "outputs": [],
   "source": [
    "import requests\n",
    "from bs4 import BeautifulSoup\n",
    "import time\n",
    "from datetime import datetime  \n",
    "from datetime import timedelta  \n"
   ]
  },
  {
   "attachments": {},
   "cell_type": "markdown",
   "metadata": {},
   "source": [
    "The project scenario is as follows:\n",
    "\n",
    "- An employee works at a tech company in Hsinchu, Taiwan, but lives in Taipei.\n",
    "\n",
    "- The company offers a flexible work schedule.\n",
    "\n",
    "- Assume they are looking for something between 6 am and 11 am\n",
    "\n",
    "Solution: Web scraping using Python for automation to save time and effort.\n",
    "\n",
    "\n",
    "\n"
   ]
  },
  {
   "cell_type": "code",
   "execution_count": 6,
   "metadata": {},
   "outputs": [],
   "source": [
    "# Taiwan rail schedule URL\n",
    "url = 'https://tip.railway.gov.tw/tra-tip-web/tip'"
   ]
  },
  {
   "cell_type": "code",
   "execution_count": 7,
   "metadata": {},
   "outputs": [],
   "source": [
    "staDic = {} #dic to store name of station and id \n",
    "today = (datetime.now()+timedelta(days=1)).strftime('%Y/%m/%d') #Taiwan +12 hrs. ahead of US.\n",
    "sTime ='6:00' #star time\n",
    "eTime = '11:00' #end time"
   ]
  },
  {
   "cell_type": "code",
   "execution_count": 8,
   "metadata": {},
   "outputs": [
    {
     "name": "stdout",
     "output_type": "stream",
     "text": [
      "區間 1117 : 06:18, 07:57\n",
      "自強 103 : 06:27, 07:34\n",
      "區間 1121 : 06:40, 08:19\n",
      "自強 105 : 07:00, 08:11\n",
      "區間 2143 : 07:05, 08:35\n",
      "區間快 2007 : 07:24, 08:47\n",
      "區間 1127 : 07:28, 09:04\n",
      "區間 1131 : 07:35, 09:16\n",
      "區間 2153 : 08:03, 09:47\n",
      "自強 109 : 08:13, 09:21\n",
      "自強 113 : 08:28, 09:36\n",
      "區間 1137 : 08:32, 10:07\n",
      "區間 1141 : 08:48, 10:25\n",
      "自強 115 : 09:00, 10:11\n",
      "區間 2163 : 09:06, 10:36\n",
      "莒光 511 : 09:17, 10:43\n",
      "區間 1147 : 09:29, 11:01\n",
      "區間 1151 : 09:39, 11:18\n",
      "自強 117 : 10:00, 11:08\n",
      "區間 2173 : 10:05, 11:35\n",
      "區間 1157 : 10:23, 11:57\n",
      "區間 1161 : 10:45, 12:24\n",
      "自強 121 : 11:00, 12:08\n"
     ]
    }
   ],
   "source": [
    "def getTrip():\n",
    "    resp = requests.get(url)\n",
    "    if resp.status_code != 200:\n",
    "        print(\"URL incorrect\"+ url)\n",
    "        return\n",
    "\n",
    "    soup= BeautifulSoup(resp.text, features='html')\n",
    "    stations = soup.find(id= 'cityHot').ul.find_all('li')\n",
    "    \n",
    "    for station in stations:\n",
    "        stationName= station.button.text\n",
    "        stationId= station.button['title']\n",
    "        staDic[stationName] = stationId\n",
    "\n",
    "    csrf = soup.find(id = 'queryForm').find('input',{'name': '_csrf'})['value']\n",
    "    formData ={\n",
    "         'trainTypeList':'ALL',\n",
    "        'transfer':'ONE',\n",
    "        'startOrEndTime':'true',\n",
    "        'startStation':staDic['臺北'],\n",
    "        'endStation':staDic['新竹'],\n",
    "        'rideDate':today,\n",
    "        'startTime':sTime,\n",
    "        'endTime':eTime, \n",
    "        '_csrf':csrf\n",
    "    }\n",
    "\n",
    "    queryUrl = soup.find(id='queryForm')['action']\n",
    "    qResp = requests.post('https://tip.railway.gov.tw'+queryUrl, data= formData) \n",
    "    qSoup = BeautifulSoup(qResp.text, features='html')\n",
    "    trs = qSoup.find_all('tr', 'trip-column')\n",
    "    for tr in trs:\n",
    "        td = tr.find_all('td')\n",
    "        print('%s : %s, %s' % (td[0].ul.li.a.text, td[1].text, td[2].text)) \n",
    "        \n",
    "getTrip()"
   ]
  },
  {
   "cell_type": "code",
   "execution_count": null,
   "metadata": {},
   "outputs": [],
   "source": []
  },
  {
   "cell_type": "code",
   "execution_count": null,
   "metadata": {},
   "outputs": [],
   "source": []
  },
  {
   "cell_type": "code",
   "execution_count": null,
   "metadata": {},
   "outputs": [],
   "source": []
  }
 ],
 "metadata": {
  "kernelspec": {
   "display_name": "Python 3",
   "language": "python",
   "name": "python3"
  },
  "language_info": {
   "codemirror_mode": {
    "name": "ipython",
    "version": 3
   },
   "file_extension": ".py",
   "mimetype": "text/x-python",
   "name": "python",
   "nbconvert_exporter": "python",
   "pygments_lexer": "ipython3",
   "version": "3.7.7"
  },
  "vscode": {
   "interpreter": {
    "hash": "e534e48711db4d1e1c48977d0d14ff85b1f16d41bcc4fdfd88268a329b3c9d66"
   }
  }
 },
 "nbformat": 4,
 "nbformat_minor": 2
}
